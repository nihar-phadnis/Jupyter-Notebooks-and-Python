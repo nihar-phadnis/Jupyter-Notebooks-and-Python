{
 "cells": [
  {
   "cell_type": "markdown",
   "metadata": {
    "application/vnd.databricks.v1+cell": {
     "inputWidgets": {},
     "nuid": "b19d6ac7-938d-4f51-8e2e-9ac268a6abc1",
     "showTitle": false,
     "title": ""
    }
   },
   "source": [
    "# CS5234J: Summative Group Assessment 1\n",
    "**Goals**: In this assignment you will be practising basic tools and creating \n",
    "building blocks that will be useful in your final projects. This assignment\n",
    "covers the material taught in the first four weeks, such as\n",
    "regular expressions, basics of text processing, and functional programming concepts. \n",
    "Your solutions for this assignment will help in Assignment 2 for solving two data processing \n",
    "problems on the Spark platform.\n",
    "\n",
    "**Before you start:**\n",
    "* This assignment is **summative** coursework.\n",
    "* It constitutes 4% of the final course mark.\n",
    "* It consists of 4 questions.\n",
    "* The answers should be given by filling in blanks in the code cells of a copy of this \n",
    "notebook as instructed in the question descriptions and the comments in the code.\n",
    "* Do not create your own cells as these will not be checked!\n",
    "* Submission deadline is **24 May 2021 10:00**.\n",
    "* Submit a copy of this notebook with your answers by following the Assignment 1\n",
    "submission link on Moodle under Week 4. For example, if viewing the notebook in Jupyter, select `File->Download as->Notebook (.ipynb)` to download a copy of the notebook.\n",
    "* Please note that submitting anything rather than a copy of this notebook (e.g., a PDF file\n",
    "or a ZIP archive) will automatically result in your entire submission receiving a mark of 0. \n",
    "Likewise, any code cells that do not compile (for whatever reason, including\n",
    "accidental comments, incorrect indentation, unbalanced parentheses, etc.) will be penalized by deducting the **entire** \n",
    "quantity of marks associated with the relevant question. This is in line with the requirements \n",
    "of the departmental policy for electronic submissions: \n",
    "https://intranet.royalholloway.ac.uk/computerscience/documents/pdf/electronicsubmissionstudentversion.pdf\n",
    "* You can work in teams of **two** people. \n",
    "* If you decide to form a team, please enter the student IDs of both team members in the following \n",
    "Google Spreadsheet **before the submission deadline**\n",
    "https://docs.google.com/spreadsheets/d/1ooBWEkafKOC9bQFJWi7d_KThcGf8IcOeEi9e29oNlEU/edit?usp=sharing\n",
    "* Note that the teams cannot be changed once formed, and will stay as is for the final project.\n",
    "\n",
    "**Running the code**\n",
    "To run the code, we recommend using an instance of the Jupyter Notebook server.\n",
    "\n",
    "* Start NoMachine, and log into `linux.cim.rhul.ac.uk`\n",
    "* Open a terminal window\n",
    "* At the prompt, from the directory containing this notebook type `jupyter notebook` to launch a Jupyter Notebook server. If everything works as expected, this will open up a tab in a web browser through which\n",
    "you can load and work on the notebook.\n",
    "\n",
    "As an alternative, you can also use the Databricks Community Edition cloud, but please be aware that their automated notebook synchronisation may not always work as expected potentially resulting in the loss of work. One possible workaround is to connect your notebook to a Git repository, and then use the provided commit interface to force synchronisation as necessary. If you would like to follow this route, and need help creating a private repository on GitHub (available to all RHUL students), please contact the CS Helpdesk."
   ]
  },
  {
   "cell_type": "markdown",
   "metadata": {
    "application/vnd.databricks.v1+cell": {
     "inputWidgets": {},
     "nuid": "c31f381f-888d-47ad-a118-3bb9818087db",
     "showTitle": false,
     "title": ""
    }
   },
   "source": [
    "## Question 1: Regular Expressions (20%)\n",
    "Write a regular expression pattern matching a _valid URL_. For the purposes of this exercise, a valid URL is any string of the form `protocol://domain/optional_file_path/optional_file_name`, where\n",
    "\n",
    "   * `protocol` is one of `file`, `http`, `https`, or `ftp`.\n",
    "   * `domain` is a sequence of labels separated by a single `.` (dot) character where each label is a combination of alphanumeric (i.e., both letters and numbers) characters in either lower or upper case, and the rightmost label representing the top-level domain is not all numbers.\n",
    "   * `optional_file_path` is a (potentially empty) sequence of labels separated by a `/` (forward slash) character, where each label is a combination of alphanumeric characters in either lower or upper case, and hyphens (`-`).\n",
    "   * `optional_file_name` is a sequence of labels (of length at most 2) separated by a `.` (dot) character, where each label is a combination of alphanumeric characters in either lower or upper case and hyphens (`-`).\n",
    "\n",
    "For example all of the following strings are valid URLs: https://my.Domain.com/some/file.html, ftp://com/my-file.json, http://123.456.12a/, http://bigdata and http://cs5234.rhul.ac.uk/sub-dir/ , whereas http://234.345, http://rhul.ac.uk/my.long.filename.html, http://.bigdata/, and http://big..data are not."
   ]
  },
  {
   "cell_type": "code",
   "execution_count": 2,
   "metadata": {
    "application/vnd.databricks.v1+cell": {
     "inputWidgets": {},
     "nuid": "b93b2645-d5ca-403d-80a4-4582b971f231",
     "showTitle": false,
     "title": ""
    }
   },
   "outputs": [
    {
     "name": "stdout",
     "output_type": "stream",
     "text": [
      "<re.Match object; span=(0, 36), match='https://my.Domain.com/some/file.html'>\n",
      "<re.Match object; span=(0, 22), match='ftp://com/my-file.json'>\n",
      "<re.Match object; span=(0, 19), match='http://123.456.12a/'>\n",
      "<re.Match object; span=(0, 14), match='http://bigdata'>\n",
      "<re.Match object; span=(0, 32), match='http://cs5234.rhul.ac.uk/sub-dir'>\n",
      "None\n",
      "None\n",
      "None\n",
      "None\n"
     ]
    }
   ],
   "source": [
    "import re\n",
    "\n",
    "protocol = '^(http(s)?|ftp|file)'\n",
    "domain = '[a-zA-Z0-9]+(\\.[a-zA-Z0-9]+)*[a-zA-Z]'\n",
    "optional_file_path = '(/([\\w-]*))*'\n",
    "optional_file_name = '(/([\\w-]+\\.[a-z]+)?)?'\n",
    "\n",
    "url_regex = protocol + '://' + domain + optional_file_path + optional_file_name\n",
    "\n",
    "valid_tests = ['https://my.Domain.com/some/file.html', 'ftp://com/my-file.json', 'http://123.456.12a/', 'http://bigdata', 'http://cs5234.rhul.ac.uk/sub-dir']\n",
    "invalid_tests =  ['http://234.345', 'http://rhul.ac.uk/my.long.filename.html', 'http://.bigdata/', 'http://big..data']\n",
    "\n",
    "for s in valid_tests:\n",
    "  print(re.compile(url_regex).fullmatch(s))\n",
    "\n",
    "for s in invalid_tests:\n",
    "  print(re.compile(url_regex).fullmatch(s))"
   ]
  },
  {
   "cell_type": "markdown",
   "metadata": {
    "application/vnd.databricks.v1+cell": {
     "inputWidgets": {},
     "nuid": "969bb12c-16bf-4f2c-9dd2-8077918892f6",
     "showTitle": false,
     "title": ""
    }
   },
   "source": [
    "Your solution is correct if the value returned by `re.compile(url_regex).fullmatch(s)` is not\n",
    "`None` for every string `s`, which is a valid URL according to \n",
    "the definition above, and `None`, otherwise."
   ]
  },
  {
   "cell_type": "markdown",
   "metadata": {
    "application/vnd.databricks.v1+cell": {
     "inputWidgets": {},
     "nuid": "0a10b855-b2df-4f0b-9acc-e46c984b1de0",
     "showTitle": false,
     "title": ""
    }
   },
   "source": [
    "## Question 2: Regular Expressions (20%)\n",
    "Write a regular expression pattern matching any string consisting of non-empty _fields_ separated by _commas_. A field may include any printable characters except whitespaces and commas. \n",
    "A valid string must start and end with a field. \n",
    "For example, the strings `'ab1c,de_f,xyz'`, `'ab1c,de_%^f,xyz'`, `abc` \n",
    "are  valid whereas the strings `'ab1c,, de_f'` and \n",
    "`'ab1c,de_f, xyz,'` are not."
   ]
  },
  {
   "cell_type": "code",
   "execution_count": 3,
   "metadata": {
    "application/vnd.databricks.v1+cell": {
     "inputWidgets": {},
     "nuid": "b2e3d7a4-87d5-47c0-84b5-aacf66fb8ecd",
     "showTitle": false,
     "title": ""
    }
   },
   "outputs": [
    {
     "name": "stdout",
     "output_type": "stream",
     "text": [
      "<re.Match object; span=(0, 13), match='ab1c,de_f,xyz'>\n",
      "<re.Match object; span=(0, 15), match='ab1c,de_%^f,xyz'>\n",
      "<re.Match object; span=(0, 3), match='abc'>\n",
      "None\n",
      "None\n"
     ]
    }
   ],
   "source": [
    "csv_regex = '(^([^,|\\s]+,[^,|\\s]+)+)|(\\w)*'\n",
    "\n",
    "valid_tests = ['ab1c,de_f,xyz', 'ab1c,de_%^f,xyz', 'abc']\n",
    "invalid_tests = ['ab1c,, de_f','ab1c,de_f, xyz,']\n",
    "\n",
    "for s in valid_tests:\n",
    "  print(re.compile(csv_regex).fullmatch(s))\n",
    "  \n",
    "for s in invalid_tests:\n",
    "  print(re.compile(csv_regex).fullmatch(s))"
   ]
  },
  {
   "cell_type": "markdown",
   "metadata": {
    "application/vnd.databricks.v1+cell": {
     "inputWidgets": {},
     "nuid": "e42f2303-8160-47d5-a5e5-2254d83504f4",
     "showTitle": false,
     "title": ""
    }
   },
   "source": [
    "Your solution is correct if the value returned by `re.compile(csv_regex).fullmatch(s)` is not\n",
    "`None` for every string `s`, which is valid according to \n",
    "the definition above, and `None`, otherwise."
   ]
  },
  {
   "cell_type": "markdown",
   "metadata": {
    "application/vnd.databricks.v1+cell": {
     "inputWidgets": {},
     "nuid": "fd294ae2-cef5-4eb9-93ca-c78a1d90011d",
     "showTitle": false,
     "title": ""
    }
   },
   "source": [
    "## Question 3: Generator Functions (20%)\n",
    "Write a generator function `gen_running_count_from_csv_string(s)` that takes a string `s` matching the regular expression pattern described by `csv_regex` as argument and produces, based on the fields extracted from `s`, a running count of the number of fields in `s` that contain a digit. For example, `gen_running_count_from_csv_string('ab1c,de_f,xy4z5')` will return the sequence \n",
    "`1`, `1`, `2`"
   ]
  },
  {
   "cell_type": "code",
   "execution_count": 4,
   "metadata": {
    "application/vnd.databricks.v1+cell": {
     "inputWidgets": {},
     "nuid": "66d10e9a-7c15-4d73-a8c7-6b187f500131",
     "showTitle": false,
     "title": ""
    }
   },
   "outputs": [
    {
     "name": "stdout",
     "output_type": "stream",
     "text": [
      "<class 'generator'>\n",
      "1\n",
      "1\n",
      "2\n"
     ]
    }
   ],
   "source": [
    "import re\n",
    "\n",
    "def gen_running_count_from_csv_string(s):\n",
    "    s = s.split(',')\n",
    "    c = 0\n",
    "    for word in s:\n",
    "        if any(map(str.isdigit, word)):\n",
    "            c += 1\n",
    "            yield c\n",
    "        else:\n",
    "            yield c\n",
    "#----------------------------------------\n",
    "s = 'ab1c,de_f,xy4z5'\n",
    "a = gen_running_count_from_csv_string(s)\n",
    "print(type(a))\n",
    "for n in a:\n",
    "    print(n)"
   ]
  },
  {
   "cell_type": "markdown",
   "metadata": {
    "application/vnd.databricks.v1+cell": {
     "inputWidgets": {},
     "nuid": "e0d3de6b-29fa-4330-9794-82bce117c52f",
     "showTitle": false,
     "title": ""
    }
   },
   "source": [
    "## Question 4: Lambda Expressions (40%)\n",
    "Write the following lambda expressions:\n",
    "1. `valid_url`: takes a string `s` as argument and returns `True` if `s` \n",
    "matches `url_regex`, and `False`, otherwise\n",
    "2. `concat_csv_strings`: takes two strings `s1` and `s2` as arguments and \n",
    "returns a single string consisting of `s1` and `s2` separated by comma. For example, if\n",
    "the strings\n",
    "`'ab1c,de_f,xyz'` and `'ab1c,de_%^f,xyz'` are given as arguments, the output must be the string\n",
    "`'ab1c,de_f,xyz,ab1c,de_%^f,xyz'`\n",
    "3. `val_by_vec`: takes an object `x` and a sequence of objects `seq`, and returns a sequence\n",
    "(i.e., an iterator) of tuples `(x, t[0]), (x, t[1]), ...`.<br>\n",
    "_Hint_: Use a generator expression.\n",
    "4. `not_self_loop`: takes a 2-tuple `(a, b)` and returns `True` if `a != b` and `False`, otherwise."
   ]
  },
  {
   "cell_type": "code",
   "execution_count": 13,
   "metadata": {
    "application/vnd.databricks.v1+cell": {
     "inputWidgets": {},
     "nuid": "dc74e419-5d85-4670-b6d5-7a1c4fc1c67b",
     "showTitle": false,
     "title": ""
    }
   },
   "outputs": [
    {
     "name": "stdout",
     "output_type": "stream",
     "text": [
      "True\n"
     ]
    }
   ],
   "source": [
    "valid_url = lambda s: True if re.compile(url_regex).fullmatch(s) else False\n",
    "#print(valid_url('https://my.Domain.com/some/file.html'))\n",
    "\n",
    "concat_csv_strings = lambda s1, s2: s1+','+s2\n",
    "#s1 = 'abc'\n",
    "#s2 = 'def'\n",
    "#print(concat_csv_strings(s1,s2))\n",
    "\n",
    "val_by_vec = lambda x, seq: list(map(lambda i: (x,i), seq))\n",
    "#a=[2,4,6,8]\n",
    "#b=5\n",
    "#print(val_by_vec(b,a))\n",
    "\n",
    "not_self_loop = lambda a, b: True if a!=b else False\n",
    "#print(not_self_loop(3,3))"
   ]
  },
  {
   "cell_type": "code",
   "execution_count": 9,
   "metadata": {},
   "outputs": [
    {
     "data": {
      "text/plain": [
       "False"
      ]
     },
     "execution_count": 9,
     "metadata": {},
     "output_type": "execute_result"
    }
   ],
   "source": [
    "not_self_loop(3,3)"
   ]
  },
  {
   "cell_type": "code",
   "execution_count": null,
   "metadata": {},
   "outputs": [],
   "source": []
  }
 ],
 "metadata": {
  "application/vnd.databricks.v1+notebook": {
   "dashboards": [],
   "language": "python",
   "notebookName": "2021-CS5234-A1",
   "notebookOrigID": 854954857924556,
   "widgets": {}
  },
  "kernelspec": {
   "display_name": "Python 3",
   "language": "python",
   "name": "python3"
  },
  "language_info": {
   "codemirror_mode": {
    "name": "ipython",
    "version": 3
   },
   "file_extension": ".py",
   "mimetype": "text/x-python",
   "name": "python",
   "nbconvert_exporter": "python",
   "pygments_lexer": "ipython3",
   "version": "3.8.5"
  }
 },
 "nbformat": 4,
 "nbformat_minor": 1
}
