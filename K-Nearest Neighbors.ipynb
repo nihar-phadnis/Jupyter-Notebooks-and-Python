{
 "cells": [
  {
   "cell_type": "markdown",
   "metadata": {},
   "source": [
    "# K-Nearest Neighbors on Iris dataset. "
   ]
  },
  {
   "cell_type": "markdown",
   "metadata": {},
   "source": [
    "Here, both the datasets are split into train and test data using \"train_test_split\" function from the scikit learn. Train data is to fit the model while the test data which is unseen by the model"
   ]
  },
  {
   "cell_type": "code",
   "execution_count": 29,
   "metadata": {},
   "outputs": [
    {
     "name": "stdout",
     "output_type": "stream",
     "text": [
      "(112, 4) (38, 4)\n"
     ]
    }
   ],
   "source": [
    "from sklearn.datasets import load_iris\n",
    "iris = load_iris()\n",
    "\n",
    "from sklearn.model_selection import train_test_split\n",
    "Xtrain, Xtest, ytrain, ytest= train_test_split(iris.data, iris.target, random_state=2261)\n",
    "\n",
    "print(Xtrain.shape, Xtest.shape)"
   ]
  },
  {
   "cell_type": "markdown",
   "metadata": {},
   "source": [
    "Implementing a euclidean distance function so it calculates the distance between two rows and returns the shortest one (or depending on required k) as the nearest neighbors.\n",
    "\n",
    "Applying the function on a contrived data, we can see that the distance between f1 and f2 is shorter than f1 and f3 thereby having f2 as the nearest neighbor to f1."
   ]
  },
  {
   "cell_type": "code",
   "execution_count": 30,
   "metadata": {},
   "outputs": [
    {
     "name": "stdout",
     "output_type": "stream",
     "text": [
      "0.5385164807134502\n",
      "4.003748243833521\n"
     ]
    }
   ],
   "source": [
    "import math\n",
    "\n",
    "def euclidean_distance(firstrow, secondrow):\n",
    "    dist = 0.0\n",
    "    for i in range(len(firstrow)):\n",
    "        dist += math.pow(firstrow[i]-secondrow[i],2)\n",
    "    return math.sqrt(dist)\n",
    "\n",
    "f1 =(5.1,3.5,1.4,0.2)\n",
    "f2= (4.9,3.0,1.4,0.2)\n",
    "f3 =(7.0,3.2,4.7,1.4)\n",
    "\n",
    "print(euclidean_distance(f1, f2))\n",
    "print(euclidean_distance(f1, f3))"
   ]
  },
  {
   "cell_type": "markdown",
   "metadata": {},
   "source": [
    "Here, implementing a function to get the neighbors by having train, test rows and number of neighbors (k). We enumerate the train set as we don't want to lose the index of the shortest distance(s). The function returns the index along with the shortest distance. Below is also an example how the function is executed.\n"
   ]
  },
  {
   "cell_type": "code",
   "execution_count": 31,
   "metadata": {},
   "outputs": [],
   "source": [
    "def get_neighbors(train, test, k):\n",
    "    distances = list()\n",
    "    for idx, x in enumerate(train):\n",
    "        dis = euclidean_distance(x, test)\n",
    "        distances.append((idx, dis))\n",
    "    distances.sort(key=lambda tup: tup[1])\n",
    "    \n",
    "    neighbors = list()\n",
    "    \n",
    "    for i in range(k):\n",
    "        neighbors.append(distances[i])\n",
    "    return neighbors"
   ]
  },
  {
   "cell_type": "code",
   "execution_count": 34,
   "metadata": {},
   "outputs": [
    {
     "name": "stdout",
     "output_type": "stream",
     "text": [
      "[(107, 0.24494897427831777), (106, 0.38729833462074154)]\n"
     ]
    }
   ],
   "source": [
    "nearest = get_neighbors(Xtrain, Xtest[1], 2)\n",
    "\n",
    "print(nearest)"
   ]
  },
  {
   "cell_type": "markdown",
   "metadata": {},
   "source": [
    "Now, predict_classification would classify the test row into the classes depending on the nearest neighbors. The function would select the maximum number of times a class occurs (output value) and returns the predicted class for the test set. \n",
    "\n",
    "Below is the executed function which predicts Xtest[12] belonging in class 2."
   ]
  },
  {
   "cell_type": "code",
   "execution_count": 9,
   "metadata": {},
   "outputs": [],
   "source": [
    "def predict_classification(train, test_row, num_neighbors):\n",
    "    neighbors = get_neighbors(train, test_row, num_neighbors)\n",
    "    output_values = [row[0] for row in neighbors]\n",
    "    output = [ytrain[ov] for ov in output_values] \n",
    "    prediction = max(set(output), key=output.count)\n",
    "    return prediction"
   ]
  },
  {
   "cell_type": "code",
   "execution_count": 36,
   "metadata": {},
   "outputs": [
    {
     "data": {
      "text/plain": [
       "2"
      ]
     },
     "execution_count": 36,
     "metadata": {},
     "output_type": "execute_result"
    }
   ],
   "source": [
    "predict_classification(Xtrain, Xtest[12], 3)\n"
   ]
  },
  {
   "cell_type": "markdown",
   "metadata": {},
   "source": [
    "Now we will make predictions for every row in the test set and then calculate the accuracy."
   ]
  },
  {
   "cell_type": "code",
   "execution_count": 40,
   "metadata": {},
   "outputs": [
    {
     "name": "stdout",
     "output_type": "stream",
     "text": [
      "[2 2 0 1 0 0 0 1 1 2 2 1 2 0 0 2 2 0 0 2 2 0 2 1 2 1 2 0 2 0 1 1 2 0 2 2 1\n",
      " 1]\n"
     ]
    }
   ],
   "source": [
    "import numpy as np\n",
    "pred_class = []\n",
    "\n",
    "for i in Xtest:\n",
    "    clas = predict_classification(Xtrain, i, 3)\n",
    "    pred_class.append(clas)\n",
    "\n",
    "pred_class = np.asarray(pred_class)\n",
    "\n",
    "#[print(x) for x in pred_class]\n",
    "\n",
    "print(pred_class)"
   ]
  },
  {
   "cell_type": "code",
   "execution_count": 26,
   "metadata": {},
   "outputs": [
    {
     "name": "stdout",
     "output_type": "stream",
     "text": [
      "accuray =  97.36842105263158\n"
     ]
    }
   ],
   "source": [
    "acc = np.mean(cla == ytest)\n",
    "print('accuray = ', acc*100)"
   ]
  },
  {
   "cell_type": "markdown",
   "metadata": {},
   "source": [
    "The accuracy of this knn model when k =3 is 97% which is a good accuracy rate. "
   ]
  },
  {
   "cell_type": "code",
   "execution_count": null,
   "metadata": {},
   "outputs": [],
   "source": []
  }
 ],
 "metadata": {
  "kernelspec": {
   "display_name": "Python 3",
   "language": "python",
   "name": "python3"
  },
  "language_info": {
   "codemirror_mode": {
    "name": "ipython",
    "version": 3
   },
   "file_extension": ".py",
   "mimetype": "text/x-python",
   "name": "python",
   "nbconvert_exporter": "python",
   "pygments_lexer": "ipython3",
   "version": "3.8.5"
  }
 },
 "nbformat": 4,
 "nbformat_minor": 4
}
